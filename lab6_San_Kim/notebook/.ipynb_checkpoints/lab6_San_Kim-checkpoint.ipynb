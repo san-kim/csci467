{
 "cells": [
  {
   "cell_type": "markdown",
   "metadata": {},
   "source": [
    "#  \n",
    "# LAB 6\n",
    "#  \n"
   ]
  },
  {
   "cell_type": "markdown",
   "metadata": {},
   "source": [
    "## Part A / Part B\n",
    "\n",
    "This assignment uses a convolutional neural network for image colorization which\n",
    "turns a grayscale image to a colored image.1 By converting an image to grayscale,\n",
    "we loose color information, so converting a grayscale image back to a colored\n",
    "version is not an easy job. We will use the CIFAR-10 dataset. Downolad the\n",
    "dataset from http://www.cs.toronto.edu/~kriz/cifar-10-python.tar.gz."
   ]
  },
  {
   "cell_type": "markdown",
   "metadata": {},
   "source": [
    "From the train and test dataset, extract the class birds. We will focus on this\n",
    "class, which has 6000 members."
   ]
  },
  {
   "cell_type": "code",
   "execution_count": 1,
   "metadata": {},
   "outputs": [],
   "source": [
    "import pickle\n",
    "import numpy as np\n",
    "import matplotlib.pyplot as plt\n",
    "from sklearn.cluster import KMeans\n"
   ]
  },
  {
   "cell_type": "code",
   "execution_count": 2,
   "metadata": {},
   "outputs": [],
   "source": [
    "def load_birds(cifar10_dataset_path):\n",
    "    #open file and go to that batch number file\n",
    "    with open(cifar10_dataset_path, mode = 'rb') as file:\n",
    "        batch = pickle.load(file, encoding='latin1')\n",
    "    # store it if the label is 2, aka if it is a bird\n",
    "    filtered = np.asarray([x for (i, x) in enumerate(batch['data']) if batch['labels'][i] == 2])\n",
    "    file_features = filtered.reshape((len(filtered), 3, 32, 32)).transpose(0, 2, 3, 1)\n",
    "    file_labels = np.asarray([x for x in batch['labels'] if x == 2])\n",
    "    return file_features, file_labels"
   ]
  },
  {
   "cell_type": "code",
   "execution_count": 3,
   "metadata": {},
   "outputs": [
    {
     "name": "stdout",
     "output_type": "stream",
     "text": [
      "(6000, 32, 32, 3)\n",
      "(6000,)\n"
     ]
    },
    {
     "data": {
      "text/plain": [
       "<matplotlib.image.AxesImage at 0x1a22cc6dd8>"
      ]
     },
     "execution_count": 3,
     "metadata": {},
     "output_type": "execute_result"
    },
    {
     "data": {
      "image/png": "[encoded data removed]",
      "text/plain": [
       "<Figure size 432x288 with 1 Axes>"
      ]
     },
     "metadata": {
      "needs_background": "light"
     },
     "output_type": "display_data"
    }
   ],
   "source": [
    "# feature and labels np array for holding data\n",
    "labels = []\n",
    "features = []\n",
    "\n",
    "X_features = []\n",
    "y_labels = []\n",
    "\n",
    "for i in range(1, 7):\n",
    "    #read the test data batch\n",
    "    if i == 6:\n",
    "        file_features, file_labels = load_birds('../data/cifar-10-batches-py/test_batch')\n",
    "        X_features = np.append(features, file_features, axis=0)\n",
    "        y_labels = np.append(labels, file_labels)\n",
    "        continue\n",
    "    #otherwise read the train data batch\n",
    "    file_features, file_labels = load_birds('../data/cifar-10-batches-py/data_batch_' + str(i))\n",
    "    if i == 1:\n",
    "        features = file_features\n",
    "        labels = file_labels\n",
    "        continue\n",
    "    features = np.append(features, file_features, axis=0)\n",
    "    labels = np.append(labels, file_labels)\n",
    "\n",
    "\n",
    "\n",
    "print(X_features.shape)\n",
    "print(y_labels.shape)\n",
    "\n",
    "plt.imshow(X_features[1])\n"
   ]
  },
  {
   "cell_type": "markdown",
   "metadata": {},
   "source": [
    "##  \n",
    "## Part C\n",
    "\n",
    "Those 6000 images have 6000 × 32 × 32 pixels. Choose at least 10% of the pixels\n",
    "randomly. It is strongly recommended that you choose a large number or all of\n",
    "the pixels. You will have between P = 614400 and P = 6144000 pixels. Each\n",
    "pixel is an RGB vector with three elements."
   ]
  },
  {
   "cell_type": "code",
   "execution_count": 4,
   "metadata": {},
   "outputs": [
    {
     "name": "stdout",
     "output_type": "stream",
     "text": [
      "0 % done\n",
      "10 % done\n",
      "20 % done\n",
      "30 % done\n",
      "40 % done\n",
      "50 % done\n",
      "60 % done\n",
      "70 % done\n",
      "80 % done\n",
      "90 % done\n",
      "100% done\n",
      "(6144000, 3)\n"
     ]
    }
   ],
   "source": [
    "# choose random amount of of the pixels; i.e. P = 61440\n",
    "import random\n",
    "#10%\n",
    "#randomsample = random.sample(range(0, len(X_features)*32*32), (int)(0.1*len(X_features)*32*32))\n",
    "randomsample = [i for i in range(0,(len(X_features) * 32 * 32))]\n",
    "\n",
    "pixels = np.empty([len(randomsample),3], dtype=int)\n",
    "for i in range(0, len(randomsample)):\n",
    "    sample = randomsample[i]\n",
    "    rbg = X_features[(int)(sample/1024)][int((sample%1024)/32)][(sample%1024)%32].astype(int)\n",
    "    pixels[i] = rbg\n",
    "    if(i%614400 == 0):\n",
    "        print(int((i/len(randomsample))*100), \"% done\")\n",
    "print(\"100% done\")\n",
    "\n",
    "print(pixels.shape)\n"
   ]
  },
  {
   "cell_type": "markdown",
   "metadata": {},
   "source": [
    "##  \n",
    "## Part D\n",
    "Run k-means clustering on the P vectors using k = 4. The centers of the clusters\n",
    "will be your main colors. Convert the colored images to k-color images by converting each pixel’s value to the closest main color in terms of Euclidean distance.\n",
    "These are the outputs of your network, whose each pixel falls in one of those k\n",
    "classes"
   ]
  },
  {
   "cell_type": "code",
   "execution_count": 5,
   "metadata": {},
   "outputs": [],
   "source": [
    "kmeans = KMeans(n_clusters=4, random_state=0).fit(pixels)\n",
    "labels = kmeans.predict(pixels)"
   ]
  },
  {
   "cell_type": "code",
   "execution_count": 6,
   "metadata": {},
   "outputs": [],
   "source": [
    "X_features_copy = X_features.copy()\n",
    "color_map = kmeans.cluster_centers_\n",
    "\n",
    "for i in range(0, len(labels)):\n",
    "    color = (color_map[labels[i]]).astype(int)\n",
    "    X_features_copy[int(i/1024)][int((i%1024)/32)][int((i%1024)%32)] = color\n",
    "    "
   ]
  },
  {
   "cell_type": "code",
   "execution_count": 7,
   "metadata": {},
   "outputs": [
    {
     "name": "stdout",
     "output_type": "stream",
     "text": [
      "before example\n"
     ]
    },
    {
     "data": {
      "text/plain": [
       "<matplotlib.image.AxesImage at 0x1a2ce6a978>"
      ]
     },
     "execution_count": 7,
     "metadata": {},
     "output_type": "execute_result"
    },
    {
     "data": {
      "image/png": "[encoded data removed]",
      "text/plain": [
       "<Figure size 432x288 with 1 Axes>"
      ]
     },
     "metadata": {
      "needs_background": "light"
     },
     "output_type": "display_data"
    }
   ],
   "source": [
    "print(\"before example\")\n",
    "plt.imshow(X_features[1])"
   ]
  },
  {
   "cell_type": "code",
   "execution_count": 8,
   "metadata": {},
   "outputs": [
    {
     "name": "stdout",
     "output_type": "stream",
     "text": [
      "transformed example:\n"
     ]
    },
    {
     "data": {
      "text/plain": [
       "<matplotlib.image.AxesImage at 0x1a2cf4f4a8>"
      ]
     },
     "execution_count": 8,
     "metadata": {},
     "output_type": "execute_result"
    },
    {
     "data": {
      "image/png": "[encoded data removed]",
      "text/plain": [
       "<Figure size 432x288 with 1 Axes>"
      ]
     },
     "metadata": {
      "needs_background": "light"
     },
     "output_type": "display_data"
    }
   ],
   "source": [
    "print(\"transformed example:\")\n",
    "plt.imshow(X_features_copy[1])"
   ]
  },
  {
   "cell_type": "markdown",
   "metadata": {},
   "source": [
    "##  \n",
    "## Part E\n",
    "Use any tool (e.g., openCV or scikit-learn) to obtain grayscale 32 × 32 × 1 images\n",
    "from the original 32 × 32 × 3 images. The grayscale images are inputs of your\n",
    "network."
   ]
  },
  {
   "cell_type": "code",
   "execution_count": 9,
   "metadata": {},
   "outputs": [
    {
     "name": "stdout",
     "output_type": "stream",
     "text": [
      "Before:\n"
     ]
    },
    {
     "data": {
      "text/plain": [
       "<matplotlib.image.AxesImage at 0x1a56219d68>"
      ]
     },
     "execution_count": 9,
     "metadata": {},
     "output_type": "execute_result"
    },
    {
     "data": {
      "image/png": "[encoded data removed]",
      "text/plain": [
       "<Figure size 432x288 with 1 Axes>"
      ]
     },
     "metadata": {
      "needs_background": "light"
     },
     "output_type": "display_data"
    }
   ],
   "source": [
    "from skimage.color import rgb2gray\n",
    "\n",
    "X_features_greyscale = np.empty([len(X_features),32,32,1])\n",
    "\n",
    "for image in range (0, len(X_features)):\n",
    "    X_features_greyscale[image] = rgb2gray(X_features[image]).reshape(32,32,1)\n",
    "\n",
    "print(\"Before:\")\n",
    "plt.imshow(X_features[0])"
   ]
  },
  {
   "cell_type": "code",
   "execution_count": 10,
   "metadata": {},
   "outputs": [
    {
     "name": "stdout",
     "output_type": "stream",
     "text": [
      "After:\n"
     ]
    },
    {
     "data": {
      "text/plain": [
       "<matplotlib.image.AxesImage at 0x1a56241780>"
      ]
     },
     "execution_count": 10,
     "metadata": {},
     "output_type": "execute_result"
    },
    {
     "data": {
      "image/png": "[encoded data removed]",
      "text/plain": [
       "<Figure size 432x288 with 1 Axes>"
      ]
     },
     "metadata": {
      "needs_background": "light"
     },
     "output_type": "display_data"
    }
   ],
   "source": [
    "print(\"After:\")\n",
    "greyscale_copy = X_features_greyscale.reshape(len(X_features),32,32)\n",
    "plt.imshow(greyscale_copy[0],cmap=plt.cm.gray)"
   ]
  },
  {
   "cell_type": "markdown",
   "metadata": {},
   "source": [
    "##  \n",
    "## Part F\n",
    "Set up a deep convolutional neural network with two convolution layers (or more)\n",
    "and two (or more) MLP layers. Use 5 × 5 filters and a softmax output layer.\n",
    "Determine the number of filters, strides, and whether or not to use padding yourself. Use a minimum of one max pooling layer. Use a classification scheme, which\n",
    "means your output must determine one of the k = 4 color classes for each pixel in\n",
    "your grayscale image. Your input is a grayscale version of an image (32 × 32 × 1)\n",
    "and the output is 32 × 32 × 4. The output assigns one of the k = 4 colors to\n",
    "each of the 32 × 32 pixels; therefore, each of the pixels is classified into one of the\n",
    "classes [1 0 0 0], [0 1 0 0], [0 0 1 0], [0 0 0 1]. After each pixel is classified into one\n",
    "of the main colors, the RGB code of that color can be assigned to the pixel. For\n",
    "example, if the third main color 3\n",
    "is [255 255 255] and pixel (32,32) of an image\n",
    "has the one-hot encoded class [0 0 1 0], i.e it was classified as the third color, the\n",
    "(32,32) place in the output can be associated with [255 255 255]. The size of the\n",
    "output of the convolutional part, c1 × c2 depends on the size of the convolutional\n",
    "layers you choose and is a feature map, which is a matrix. That matrix must be\n",
    "flattened or reshaped, i.e. must be turned into a vector of size c1c2 ×1, before it is\n",
    "fed to the MLP part. Choose the number of neurons in the first layer of the MLP\n",
    "(and any other hidden layers, if you are willing to have more than one hidden\n",
    "layer) yourself, but the last layer must have 32 × 32 × 4 = 4096 neurons, each of\n",
    "which represents a pixel being in one of the k = 4 classes. Add a softmax layer4\n",
    "which will choose the highest value out of its k = 4 inputs for each of the 1024\n",
    "pixels; therefore, the output of the MLP has to be reshaped into a 32 × 32 × 4\n",
    "matrix, and to get the colored image, the RGB vector of each of the k = 4 classes\n",
    "has to be converted to the RGB vector, so an output image will be 32 × 32 × 3.\n",
    "Train at least for 5 epochs (30 epochs is strongly recommended). Plot training,\n",
    "(validation), and test errors in each epoch. Report the train and test errors and\n",
    "visually compare the artificially colored versions of the first 10 images in the test\n",
    "set with the original images.5"
   ]
  },
  {
   "cell_type": "code",
   "execution_count": 11,
   "metadata": {},
   "outputs": [
    {
     "name": "stdout",
     "output_type": "stream",
     "text": [
      "Collecting tensorflow\n",
      "  Using cached https://files.pythonhosted.org/packages/2c/72/6b3264aa2889b7dde7663464b99587d95cd6a5f3b9b30181f14d78a63e64/tensorflow-2.0.0-cp37-cp37m-macosx_10_11_x86_64.whl\n",
      "Collecting numpy<2.0,>=1.16.0 (from tensorflow)\n",
      "  Using cached https://files.pythonhosted.org/packages/60/9a/a6b3168f2194fb468dcc4cf54c8344d1f514935006c3347ede198e968cb0/numpy-1.17.4-cp37-cp37m-macosx_10_9_x86_64.whl\n",
      "Collecting keras-preprocessing>=1.0.5 (from tensorflow)\n",
      "  Using cached https://files.pythonhosted.org/packages/28/6a/8c1f62c37212d9fc441a7e26736df51ce6f0e38455816445471f10da4f0a/Keras_Preprocessing-1.1.0-py2.py3-none-any.whl\n",
      "Collecting opt-einsum>=2.3.2 (from tensorflow)\n",
      "Collecting tensorboard<2.1.0,>=2.0.0 (from tensorflow)\n",
      "  Using cached https://files.pythonhosted.org/packages/76/54/99b9d5d52d5cb732f099baaaf7740403e83fe6b0cedde940fabd2b13d75a/tensorboard-2.0.2-py3-none-any.whl\n",
      "Collecting google-pasta>=0.1.6 (from tensorflow)\n",
      "  Using cached https://files.pythonhosted.org/packages/c3/fd/1e86bc4837cc9a3a5faf3db9b1854aa04ad35b5f381f9648fbe81a6f94e4/google_pasta-0.1.8-py3-none-any.whl\n",
      "Collecting tensorflow-estimator<2.1.0,>=2.0.0 (from tensorflow)\n",
      "  Using cached https://files.pythonhosted.org/packages/fc/08/8b927337b7019c374719145d1dceba21a8bb909b93b1ad6f8fb7d22c1ca1/tensorflow_estimator-2.0.1-py2.py3-none-any.whl\n",
      "Collecting wheel>=0.26 (from tensorflow)\n",
      "  Using cached https://files.pythonhosted.org/packages/00/83/b4a77d044e78ad1a45610eb88f745be2fd2c6d658f9798a15e384b7d57c9/wheel-0.33.6-py2.py3-none-any.whl\n",
      "Collecting grpcio>=1.8.6 (from tensorflow)\n",
      "  Using cached https://files.pythonhosted.org/packages/0d/27/0413a5dffd7ddca4ea43cffd22f46ec2b26a5ed18c974e4448763e758a9b/grpcio-1.25.0-cp37-cp37m-macosx_10_9_x86_64.whl\n",
      "Collecting six>=1.10.0 (from tensorflow)\n",
      "  Using cached https://files.pythonhosted.org/packages/65/26/32b8464df2a97e6dd1b656ed26b2c194606c16fe163c695a992b36c11cdf/six-1.13.0-py2.py3-none-any.whl\n",
      "Collecting astor>=0.6.0 (from tensorflow)\n",
      "  Using cached https://files.pythonhosted.org/packages/d1/4f/950dfae467b384fc96bc6469de25d832534f6b4441033c39f914efd13418/astor-0.8.0-py2.py3-none-any.whl\n",
      "Collecting termcolor>=1.1.0 (from tensorflow)\n",
      "Collecting gast==0.2.2 (from tensorflow)\n",
      "Collecting protobuf>=3.6.1 (from tensorflow)\n",
      "  Using cached https://files.pythonhosted.org/packages/63/c3/c1929b176a62f2960fe8f9346bd7c3ed42dc2af7d61c0e9b21e36c68e2ce/protobuf-3.11.1-cp37-cp37m-macosx_10_9_intel.whl\n",
      "Collecting absl-py>=0.7.0 (from tensorflow)\n",
      "Collecting wrapt>=1.11.1 (from tensorflow)\n",
      "Collecting keras-applications>=1.0.8 (from tensorflow)\n",
      "  Using cached https://files.pythonhosted.org/packages/71/e3/19762fdfc62877ae9102edf6342d71b28fbfd9dea3d2f96a882ce099b03f/Keras_Applications-1.0.8-py3-none-any.whl\n",
      "Collecting google-auth-oauthlib<0.5,>=0.4.1 (from tensorboard<2.1.0,>=2.0.0->tensorflow)\n",
      "  Using cached https://files.pythonhosted.org/packages/7b/b8/88def36e74bee9fce511c9519571f4e485e890093ab7442284f4ffaef60b/google_auth_oauthlib-0.4.1-py2.py3-none-any.whl\n",
      "Collecting google-auth<2,>=1.6.3 (from tensorboard<2.1.0,>=2.0.0->tensorflow)\n",
      "  Using cached https://files.pythonhosted.org/packages/7b/cb/786dc53d93494784935a62947643b48250b84a882474e714f9af5e1a1928/google_auth-1.7.1-py2.py3-none-any.whl\n",
      "Collecting setuptools>=41.0.0 (from tensorboard<2.1.0,>=2.0.0->tensorflow)\n",
      "  Using cached https://files.pythonhosted.org/packages/54/28/c45d8b54c1339f9644b87663945e54a8503cfef59cf0f65b3ff5dd17cf64/setuptools-42.0.2-py2.py3-none-any.whl\n",
      "Collecting markdown>=2.6.8 (from tensorboard<2.1.0,>=2.0.0->tensorflow)\n",
      "  Using cached https://files.pythonhosted.org/packages/c0/4e/fd492e91abdc2d2fcb70ef453064d980688762079397f779758e055f6575/Markdown-3.1.1-py2.py3-none-any.whl\n",
      "Collecting werkzeug>=0.11.15 (from tensorboard<2.1.0,>=2.0.0->tensorflow)\n",
      "  Using cached https://files.pythonhosted.org/packages/ce/42/3aeda98f96e85fd26180534d36570e4d18108d62ae36f87694b476b83d6f/Werkzeug-0.16.0-py2.py3-none-any.whl\n",
      "Collecting requests<3,>=2.21.0 (from tensorboard<2.1.0,>=2.0.0->tensorflow)\n",
      "  Using cached https://files.pythonhosted.org/packages/51/bd/23c926cd341ea6b7dd0b2a00aba99ae0f828be89d72b2190f27c11d4b7fb/requests-2.22.0-py2.py3-none-any.whl\n",
      "Collecting h5py (from keras-applications>=1.0.8->tensorflow)\n",
      "  Using cached https://files.pythonhosted.org/packages/1a/8b/4d01ae9a9d50a0bcc7b0b9aae41785d8d9de6fa9bba04dc20b1582181d2d/h5py-2.10.0-cp37-cp37m-macosx_10_6_intel.whl\n",
      "Collecting requests-oauthlib>=0.7.0 (from google-auth-oauthlib<0.5,>=0.4.1->tensorboard<2.1.0,>=2.0.0->tensorflow)\n",
      "  Using cached https://files.pythonhosted.org/packages/a3/12/b92740d845ab62ea4edf04d2f4164d82532b5a0b03836d4d4e71c6f3d379/requests_oauthlib-1.3.0-py2.py3-none-any.whl\n",
      "Collecting rsa<4.1,>=3.1.4 (from google-auth<2,>=1.6.3->tensorboard<2.1.0,>=2.0.0->tensorflow)\n",
      "  Using cached https://files.pythonhosted.org/packages/02/e5/38518af393f7c214357079ce67a317307936896e961e35450b70fad2a9cf/rsa-4.0-py2.py3-none-any.whl\n",
      "Collecting pyasn1-modules>=0.2.1 (from google-auth<2,>=1.6.3->tensorboard<2.1.0,>=2.0.0->tensorflow)\n",
      "  Using cached https://files.pythonhosted.org/packages/52/50/bb4cefca37da63a0c52218ba2cb1b1c36110d84dcbae8aa48cd67c5e95c2/pyasn1_modules-0.2.7-py2.py3-none-any.whl\n",
      "Collecting cachetools<3.2,>=2.0.0 (from google-auth<2,>=1.6.3->tensorboard<2.1.0,>=2.0.0->tensorflow)\n",
      "  Using cached https://files.pythonhosted.org/packages/2f/a6/30b0a0bef12283e83e58c1d6e7b5aabc7acfc4110df81a4471655d33e704/cachetools-3.1.1-py2.py3-none-any.whl\n",
      "Collecting urllib3!=1.25.0,!=1.25.1,<1.26,>=1.21.1 (from requests<3,>=2.21.0->tensorboard<2.1.0,>=2.0.0->tensorflow)\n",
      "  Using cached https://files.pythonhosted.org/packages/b4/40/a9837291310ee1ccc242ceb6ebfd9eb21539649f193a7c8c86ba15b98539/urllib3-1.25.7-py2.py3-none-any.whl\n",
      "Collecting chardet<3.1.0,>=3.0.2 (from requests<3,>=2.21.0->tensorboard<2.1.0,>=2.0.0->tensorflow)\n",
      "  Using cached https://files.pythonhosted.org/packages/bc/a9/01ffebfb562e4274b6487b4bb1ddec7ca55ec7510b22e4c51f14098443b8/chardet-3.0.4-py2.py3-none-any.whl\n",
      "Collecting certifi>=2017.4.17 (from requests<3,>=2.21.0->tensorboard<2.1.0,>=2.0.0->tensorflow)\n",
      "  Using cached https://files.pythonhosted.org/packages/b9/63/df50cac98ea0d5b006c55a399c3bf1db9da7b5a24de7890bc9cfd5dd9e99/certifi-2019.11.28-py2.py3-none-any.whl\n",
      "Collecting idna<2.9,>=2.5 (from requests<3,>=2.21.0->tensorboard<2.1.0,>=2.0.0->tensorflow)\n",
      "  Using cached https://files.pythonhosted.org/packages/14/2c/cd551d81dbe15200be1cf41cd03869a46fe7226e7450af7a6545bfc474c9/idna-2.8-py2.py3-none-any.whl\n",
      "Collecting oauthlib>=3.0.0 (from requests-oauthlib>=0.7.0->google-auth-oauthlib<0.5,>=0.4.1->tensorboard<2.1.0,>=2.0.0->tensorflow)\n",
      "  Using cached https://files.pythonhosted.org/packages/05/57/ce2e7a8fa7c0afb54a0581b14a65b56e62b5759dbc98e80627142b8a3704/oauthlib-3.1.0-py2.py3-none-any.whl\n",
      "Collecting pyasn1>=0.1.3 (from rsa<4.1,>=3.1.4->google-auth<2,>=1.6.3->tensorboard<2.1.0,>=2.0.0->tensorflow)\n",
      "  Using cached https://files.pythonhosted.org/packages/62/1e/a94a8d635fa3ce4cfc7f506003548d0a2447ae76fd5ca53932970fe3053f/pyasn1-0.4.8-py2.py3-none-any.whl\n",
      "\u001b[31mERROR: spyder 3.3.6 requires pyqt5<5.13; python_version >= \"3\", which is not installed.\u001b[0m\n",
      "\u001b[31mERROR: spyder 3.3.6 requires pyqtwebengine<5.13; python_version >= \"3\", which is not installed.\u001b[0m\n",
      "\u001b[31mERROR: astroid 2.2.5 requires typed-ast>=1.3.0; implementation_name == \"cpython\", which is not installed.\u001b[0m\n",
      "Installing collected packages: numpy, six, keras-preprocessing, opt-einsum, grpcio, wheel, absl-py, urllib3, chardet, certifi, idna, requests, oauthlib, requests-oauthlib, pyasn1, rsa, setuptools, pyasn1-modules, cachetools, google-auth, google-auth-oauthlib, markdown, werkzeug, protobuf, tensorboard, google-pasta, tensorflow-estimator, astor, termcolor, gast, wrapt, h5py, keras-applications, tensorflow\n",
      "Successfully installed absl-py-0.8.1 astor-0.8.0 cachetools-3.1.1 certifi-2019.11.28 chardet-3.0.4 gast-0.2.2 google-auth-1.7.1 google-auth-oauthlib-0.4.1 google-pasta-0.1.8 grpcio-1.25.0 h5py-2.10.0 idna-2.8 keras-applications-1.0.8 keras-preprocessing-1.1.0 markdown-3.1.1 numpy-1.17.4 oauthlib-3.1.0 opt-einsum-3.1.0 protobuf-3.11.1 pyasn1-0.4.8 pyasn1-modules-0.2.7 requests-2.22.0 requests-oauthlib-1.3.0 rsa-4.0 setuptools-42.0.2 six-1.13.0 tensorboard-2.0.2 tensorflow-2.0.0 tensorflow-estimator-2.0.1 termcolor-1.1.0 urllib3-1.25.7 werkzeug-0.16.0 wheel-0.33.6 wrapt-1.11.2\n"
     ]
    },
    {
     "name": "stdout",
     "output_type": "stream",
     "text": [
      "Requirement already satisfied: keras in /anaconda3/lib/python3.7/site-packages (2.3.1)\n",
      "Requirement already satisfied: six>=1.9.0 in /anaconda3/lib/python3.7/site-packages (from keras) (1.13.0)\n",
      "Requirement already satisfied: scipy>=0.14 in /anaconda3/lib/python3.7/site-packages (from keras) (1.3.0)\n",
      "Requirement already satisfied: keras-applications>=1.0.6 in /anaconda3/lib/python3.7/site-packages (from keras) (1.0.8)\n",
      "Requirement already satisfied: pyyaml in /anaconda3/lib/python3.7/site-packages (from keras) (5.1.1)\n",
      "Requirement already satisfied: h5py in /anaconda3/lib/python3.7/site-packages (from keras) (2.10.0)\n",
      "Requirement already satisfied: keras-preprocessing>=1.0.5 in /anaconda3/lib/python3.7/site-packages (from keras) (1.1.0)\n",
      "Requirement already satisfied: numpy>=1.9.1 in /anaconda3/lib/python3.7/site-packages (from keras) (1.17.4)\n"
     ]
    },
    {
     "name": "stderr",
     "output_type": "stream",
     "text": [
      "Using TensorFlow backend.\n"
     ]
    }
   ],
   "source": [
    "!pip install tensorflow --ignore-installed\n",
    "!pip install keras\n",
    "import keras\n",
    "import tensorflow as tf\n",
    "from tensorflow.keras import datasets, layers, models"
   ]
  },
  {
   "cell_type": "markdown",
   "metadata": {},
   "source": [
    "Establish train and test data and labels, with labels being {0,1,2,3} to represent the four colors found in K-Means \n",
    "in part D."
   ]
  },
  {
   "cell_type": "code",
   "execution_count": 12,
   "metadata": {},
   "outputs": [
    {
     "name": "stdout",
     "output_type": "stream",
     "text": [
      "(5000, 32, 32, 1)\n",
      "(5000, 1024, 4)\n",
      "(1000, 32, 32, 1)\n",
      "(1000, 1024, 4)\n"
     ]
    }
   ],
   "source": [
    "from keras.utils import to_categorical\n",
    "train_X = X_features_greyscale[:5000]\n",
    "train_y = to_categorical(labels[:(5000*32*32)]).reshape(5000, 1024, 4).astype(int)\n",
    "test_X = X_features_greyscale[-1000:]\n",
    "test_y = to_categorical(labels[-(1000*32*32):]).reshape(1000, 1024, 4).astype(int)\n",
    "\n",
    "print(train_X.shape)\n",
    "print(train_y.shape)\n",
    "print(test_X.shape)\n",
    "print(test_y.shape)\n"
   ]
  },
  {
   "cell_type": "code",
   "execution_count": null,
   "metadata": {},
   "outputs": [
    {
     "name": "stdout",
     "output_type": "stream",
     "text": [
      "(5000, 32, 32, 1)\n",
      "(5000, 1024, 4)\n",
      "Model: \"sequential\"\n",
      "_________________________________________________________________\n",
      "Layer (type)                 Output Shape              Param #   \n",
      "=================================================================\n",
      "conv2d (Conv2D)              (None, 32, 32, 32)        832       \n",
      "_________________________________________________________________\n",
      "max_pooling2d (MaxPooling2D) (None, 16, 16, 32)        0         \n",
      "_________________________________________________________________\n",
      "conv2d_1 (Conv2D)            (None, 12, 12, 32)        25632     \n",
      "_________________________________________________________________\n",
      "max_pooling2d_1 (MaxPooling2 (None, 6, 6, 32)          0         \n",
      "_________________________________________________________________\n",
      "conv2d_2 (Conv2D)            (None, 2, 2, 32)          25632     \n",
      "_________________________________________________________________\n",
      "max_pooling2d_2 (MaxPooling2 (None, 1, 1, 32)          0         \n",
      "_________________________________________________________________\n",
      "flatten (Flatten)            (None, 32)                0         \n",
      "_________________________________________________________________\n",
      "dense (Dense)                (None, 1024)              33792     \n",
      "_________________________________________________________________\n",
      "dense_1 (Dense)              (None, 4096)              4198400   \n",
      "_________________________________________________________________\n",
      "reshape (Reshape)            (None, 1024, 4)           0         \n",
      "_________________________________________________________________\n",
      "softmax (Softmax)            (None, 1024, 4)           0         \n",
      "=================================================================\n",
      "Total params: 4,284,288\n",
      "Trainable params: 4,284,288\n",
      "Non-trainable params: 0\n",
      "_________________________________________________________________\n",
      "Train on 5000 samples, validate on 1000 samples\n",
      "Epoch 1/25\n",
      "5000/5000 [==============================] - 17s 3ms/sample - loss: 1.2193 - accuracy: 0.4214 - val_loss: 1.0609 - val_accuracy: 0.5310\n",
      "Epoch 2/25\n",
      "3872/5000 [======================>.......] - ETA: 3s - loss: 1.0086 - accuracy: 0.5519"
     ]
    }
   ],
   "source": [
    "from keras import optimizers\n",
    "\n",
    "print(train_X.shape)\n",
    "print(train_y.shape)\n",
    "\n",
    "model = models.Sequential()\n",
    "#CNN stuff\n",
    "model.add(layers.Conv2D(32, (5, 5), padding=\"same\", activation='relu', input_shape=(32, 32, 1)))\n",
    "model.add(layers.MaxPooling2D((2, 2)))\n",
    "model.add(layers.Conv2D(32, (5, 5), activation='relu'))\n",
    "model.add(layers.MaxPooling2D((2, 2)))\n",
    "model.add(layers.Conv2D(32, (5, 5), activation='relu'))\n",
    "model.add(layers.MaxPooling2D((2, 2)))\n",
    "model.add(layers.Flatten())\n",
    "#MLP stuff\n",
    "model.add(layers.Dense(1024,activation='relu'))\n",
    "model.add(layers.Dense(4096))\n",
    "model.add(layers.Reshape((1024, 4)))\n",
    "#SOFTMAX used here\n",
    "model.add(layers.Softmax(axis=-1))\n",
    "model.summary()\n",
    "\n",
    "\n",
    "#optimizer = keras.optimizers.Adam(lr=1e-4)\n",
    "model.compile(optimizer='adam', loss='categorical_crossentropy', metrics=['accuracy'])\n",
    "history = model.fit(train_X, train_y, epochs=25, validation_data=(test_X, test_y))\n"
   ]
  },
  {
   "cell_type": "markdown",
   "metadata": {},
   "source": [
    "##  \n",
    "Plot training, (validation), and test errors in each epoch. Report the train and test errors and visually compare the artificially colored versions of the first 10 images in the test set with the original images."
   ]
  },
  {
   "cell_type": "code",
   "execution_count": null,
   "metadata": {},
   "outputs": [],
   "source": [
    "#ACCURACY AND VALUE ACCURACY aka the test and train data\n",
    "plt.plot(history.history['accuracy'])\n",
    "plt.plot(history.history['val_accuracy'])\n",
    "plt.title('model accuracy')\n",
    "plt.ylabel('accuracy')\n",
    "plt.xlabel('epoch')\n",
    "plt.legend(['train', 'test'], loc='upper left')\n",
    "plt.show()\n",
    "\n",
    "test_loss, test_acc = model.evaluate(test_X,  test_y, verbose=2)\n"
   ]
  },
  {
   "cell_type": "markdown",
   "metadata": {},
   "source": [
    "#### After:"
   ]
  },
  {
   "cell_type": "code",
   "execution_count": null,
   "metadata": {},
   "outputs": [],
   "source": [
    "first10test = (X_features_greyscale[-1000:])[:10]\n",
    "\n",
    "predictions = model.predict(first10test)\n",
    "\n",
    "predictions = predictions.reshape(10, 32, 32, 4)\n",
    "\n",
    "predictions_color_convert = np.empty([len(predictions), 32, 32, 3], dtype=int)\n",
    "\n",
    "print(predictions[0][0][0])\n",
    "print(predictions[0][0][0].tolist().index(max(predictions[0][0][0])))\n",
    "\n",
    "\n",
    "for image in range (0, len(predictions)):\n",
    "    for row in range (0, 32):\n",
    "        for col in range (0, 32):\n",
    "            current_prediction = predictions[image][row][col]\n",
    "            if current_prediction.tolist().index(max(current_prediction)) == 0:\n",
    "                predictions_color_convert[image][row][col] = color_map[0]\n",
    "            elif current_prediction.tolist().index(max(current_prediction)) == 1:\n",
    "                predictions_color_convert[image][row][col] = color_map[1]\n",
    "            elif current_prediction.tolist().index(max(current_prediction)) == 2:\n",
    "                predictions_color_convert[image][row][col] = color_map[2]\n",
    "            elif current_prediction.tolist().index(max(current_prediction)) == 3:\n",
    "                predictions_color_convert[image][row][col] = color_map[3]\n",
    "\n",
    "\n",
    "plt.figure(figsize=(20,20))\n",
    "for i in range(10):\n",
    "    plt.subplot(1,10,i+1)\n",
    "    plt.grid(False)\n",
    "    plt.imshow(predictions_color_convert[i], cmap=plt.cm.binary)\n",
    "plt.show()"
   ]
  },
  {
   "cell_type": "markdown",
   "metadata": {},
   "source": [
    "#### Before:"
   ]
  },
  {
   "cell_type": "code",
   "execution_count": null,
   "metadata": {},
   "outputs": [],
   "source": [
    "cpy = (X_features[-1000:])[:10]\n",
    "plt.figure(figsize=(20,20))\n",
    "for i in range(10):\n",
    "    plt.subplot(1,10,i+1)\n",
    "    plt.grid(False)\n",
    "    plt.imshow(cpy[i], cmap=plt.cm.binary)\n",
    "plt.show()"
   ]
  }
 ],
 "metadata": {
  "kernelspec": {
   "display_name": "Python 3",
   "language": "python",
   "name": "python3"
  },
  "language_info": {
   "codemirror_mode": {
    "name": "ipython",
    "version": 3
   },
   "file_extension": ".py",
   "mimetype": "text/x-python",
   "name": "python",
   "nbconvert_exporter": "python",
   "pygments_lexer": "ipython3",
   "version": "3.7.3"
  }
 },
 "nbformat": 4,
 "nbformat_minor": 2
}
